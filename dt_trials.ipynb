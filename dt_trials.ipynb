{
 "cells": [
  {
   "cell_type": "code",
   "execution_count": 1,
   "id": "efb0c838-d16f-48bc-a932-7b73533c20ad",
   "metadata": {},
   "outputs": [],
   "source": [
    "import pandas as pd\n",
    "from sklearn.model_selection import train_test_split\n",
    "from sklearn.tree import DecisionTreeRegressor\n",
    "from sklearn.metrics import r2_score\n",
    "from sklearn import tree\n",
    "from utils import find_best_hyperparameters\n"
   ]
  },
  {
   "cell_type": "code",
   "execution_count": 2,
   "id": "babdb9eb-1bc1-4436-a036-7838babda67d",
   "metadata": {},
   "outputs": [],
   "source": [
    "import warnings\n",
    "#suppress warnings\n",
    "warnings.filterwarnings('ignore')"
   ]
  },
  {
   "cell_type": "code",
   "execution_count": 3,
   "id": "cf0db941-3b5a-4020-9d8e-a31fd07e7472",
   "metadata": {},
   "outputs": [],
   "source": [
    "dataset = pd.read_csv(\"50_Startups.csv\")"
   ]
  },
  {
   "cell_type": "code",
   "execution_count": 4,
   "id": "aeeaba27-7226-44d0-b647-fe16589e777d",
   "metadata": {},
   "outputs": [],
   "source": [
    "dataset = pd.get_dummies(dataset, drop_first=True)"
   ]
  },
  {
   "cell_type": "code",
   "execution_count": 5,
   "id": "b3471db8-497f-467b-9ca1-3b183fc1b386",
   "metadata": {},
   "outputs": [],
   "source": [
    "independent_vars = dataset[['R&D Spend', 'Administration', 'Marketing Spend','State_Florida', 'State_New York']]"
   ]
  },
  {
   "cell_type": "code",
   "execution_count": 6,
   "id": "8c668322-d524-4b0a-919c-c8646aa2ab19",
   "metadata": {},
   "outputs": [],
   "source": [
    "dependent_var = dataset[['Profit']]"
   ]
  },
  {
   "cell_type": "code",
   "execution_count": 7,
   "id": "6497dbe0-b401-4624-9b81-c874305afa04",
   "metadata": {},
   "outputs": [],
   "source": [
    "x_train,x_test,y_train,y_test=train_test_split(independent_vars,dependent_var,test_size=0.30,random_state=0)"
   ]
  },
  {
   "cell_type": "code",
   "execution_count": 8,
   "id": "421030b6-22f6-4086-a5b6-2dc85411b36f",
   "metadata": {},
   "outputs": [],
   "source": [
    "param_dict = {\n",
    "    \"criterion\": [\"squared_error\", \"friedman_mse\", \"absolute_error\", \"poisson\"],\n",
    "    \"splitter\" : [\"best\",\"random\"],\n",
    "    \"max_features\": [\"sqrt\", \"log2\",None]\n",
    "}\n"
   ]
  },
  {
   "cell_type": "code",
   "execution_count": 21,
   "id": "f15c0900-da12-4388-9ec0-8aa3b687c03a",
   "metadata": {},
   "outputs": [
    {
     "name": "stdout",
     "output_type": "stream",
     "text": [
      "criterion,splitter,max_features,r_score\n",
      "squared_error,best,sqrt,0.46040282136675437\n",
      "squared_error,best,log2,0.09466567626283551\n",
      "squared_error,best,None,0.9068851233484354\n",
      "squared_error,random,sqrt,0.8495575815016504\n",
      "squared_error,random,log2,0.34316288254812377\n",
      "squared_error,random,None,0.8436252064253887\n",
      "friedman_mse,best,sqrt,0.7676819546076277\n",
      "friedman_mse,best,log2,-0.7836351600475915\n",
      "friedman_mse,best,None,0.9420041821648154\n",
      "friedman_mse,random,sqrt,0.37126398216405543\n",
      "friedman_mse,random,log2,0.653874890469893\n",
      "friedman_mse,random,None,0.9140932756005998\n",
      "absolute_error,best,sqrt,0.7177074797778329\n",
      "absolute_error,best,log2,0.3594001512559779\n",
      "absolute_error,best,None,0.9381746066956602\n",
      "absolute_error,random,sqrt,0.5973789572538233\n",
      "absolute_error,random,log2,0.017161113967351427\n",
      "absolute_error,random,None,0.8909901511287408\n",
      "poisson,best,sqrt,0.9045096954717673\n",
      "poisson,best,log2,0.5362320550967974\n",
      "poisson,best,None,0.9088008328386012\n",
      "poisson,random,sqrt,-0.08948670183305163\n",
      "poisson,random,log2,0.2350551291175269\n",
      "poisson,random,None,0.9143161547674509\n",
      "\n",
      "Best combination:\n",
      "criterion=friedman_mse, splitter=best, max_features=None,r_score=0.9420041821648154\n"
     ]
    }
   ],
   "source": [
    "#print csv header\n",
    "print(\"criterion,splitter,max_features,r_score\")\n",
    "\n",
    "best_combo = find_best_hyperparameters(\n",
    "    param_dict,\n",
    "    x_train, y_train, x_test, y_test,\n",
    "    create_regressor_callback=lambda combo: DecisionTreeRegressor(**combo),\n",
    "    print_combo_callback=lambda combo: print(f'{combo[\"criterion\"]},{combo[\"splitter\"]},{combo[\"max_features\"]},{combo[\"r_score\"]}')\n",
    ")\n",
    "\n",
    "print(\"\\nBest combination:\")\n",
    "print(f'criterion={best_combo[\"criterion\"]}, splitter={best_combo[\"splitter\"]}, max_features={best_combo[\"max_features\"]},r_score={best_combo[\"r_score\"]}')\n"
   ]
  },
  {
   "cell_type": "code",
   "execution_count": null,
   "id": "3771382a-8fc2-4477-8856-7b3788049621",
   "metadata": {},
   "outputs": [],
   "source": []
  },
  {
   "cell_type": "code",
   "execution_count": null,
   "id": "0d25811a-5d5a-440c-8275-87e12a153a5b",
   "metadata": {},
   "outputs": [],
   "source": []
  }
 ],
 "metadata": {
  "kernelspec": {
   "display_name": "Python 3 (ipykernel)",
   "language": "python",
   "name": "python3"
  },
  "language_info": {
   "codemirror_mode": {
    "name": "ipython",
    "version": 3
   },
   "file_extension": ".py",
   "mimetype": "text/x-python",
   "name": "python",
   "nbconvert_exporter": "python",
   "pygments_lexer": "ipython3",
   "version": "3.12.4"
  }
 },
 "nbformat": 4,
 "nbformat_minor": 5
}
