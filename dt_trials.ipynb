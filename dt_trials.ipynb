{
 "cells": [
  {
   "cell_type": "code",
   "execution_count": 1,
   "id": "efb0c838-d16f-48bc-a932-7b73533c20ad",
   "metadata": {},
   "outputs": [],
   "source": [
    "import pandas as pd\n",
    "from sklearn.model_selection import train_test_split\n",
    "from sklearn.tree import DecisionTreeRegressor\n",
    "from sklearn.metrics import r2_score\n",
    "from sklearn import tree\n",
    "from utils.utils import find_best_hyperparameters\n"
   ]
  },
  {
   "cell_type": "code",
   "execution_count": 3,
   "id": "babdb9eb-1bc1-4436-a036-7838babda67d",
   "metadata": {},
   "outputs": [],
   "source": [
    "import warnings\n",
    "#suppress warnings\n",
    "warnings.filterwarnings('ignore')"
   ]
  },
  {
   "cell_type": "code",
   "execution_count": 5,
   "id": "cf0db941-3b5a-4020-9d8e-a31fd07e7472",
   "metadata": {},
   "outputs": [],
   "source": [
    "dataset = pd.read_csv(\"50_Startups.csv\")"
   ]
  },
  {
   "cell_type": "code",
   "execution_count": 7,
   "id": "aeeaba27-7226-44d0-b647-fe16589e777d",
   "metadata": {},
   "outputs": [],
   "source": [
    "dataset = pd.get_dummies(dataset, drop_first=True)"
   ]
  },
  {
   "cell_type": "code",
   "execution_count": 9,
   "id": "b3471db8-497f-467b-9ca1-3b183fc1b386",
   "metadata": {},
   "outputs": [],
   "source": [
    "independent_vars = dataset[['R&D Spend', 'Administration', 'Marketing Spend','State_Florida', 'State_New York']]"
   ]
  },
  {
   "cell_type": "code",
   "execution_count": 11,
   "id": "8c668322-d524-4b0a-919c-c8646aa2ab19",
   "metadata": {},
   "outputs": [],
   "source": [
    "dependent_var = dataset[['Profit']]"
   ]
  },
  {
   "cell_type": "code",
   "execution_count": 13,
   "id": "6497dbe0-b401-4624-9b81-c874305afa04",
   "metadata": {},
   "outputs": [],
   "source": [
    "x_train,x_test,y_train,y_test=train_test_split(independent_vars,dependent_var,test_size=0.30,random_state=0)"
   ]
  },
  {
   "cell_type": "code",
   "execution_count": 15,
   "id": "421030b6-22f6-4086-a5b6-2dc85411b36f",
   "metadata": {},
   "outputs": [],
   "source": [
    "param_dict = {\n",
    "    \"criterion\": [\"squared_error\", \"friedman_mse\", \"absolute_error\", \"poisson\"],\n",
    "    \"splitter\" : [\"best\",\"random\"],\n",
    "    \"max_features\": [\"sqrt\", \"log2\",None]\n",
    "}\n"
   ]
  },
  {
   "cell_type": "code",
   "execution_count": 17,
   "id": "f15c0900-da12-4388-9ec0-8aa3b687c03a",
   "metadata": {},
   "outputs": [
    {
     "name": "stdout",
     "output_type": "stream",
     "text": [
      "criterion,splitter,max_features,r_score\n",
      "squared_error,best,sqrt,0.6235470054758422\n",
      "squared_error,best,log2,0.0596361108392639\n",
      "squared_error,best,None,0.9048609445049367\n",
      "squared_error,random,sqrt,0.9112773986985244\n",
      "squared_error,random,log2,-1.4146258801818816\n",
      "squared_error,random,None,0.9272167871134455\n",
      "friedman_mse,best,sqrt,0.12713675132395597\n",
      "friedman_mse,best,log2,0.7874559294924994\n",
      "friedman_mse,best,None,0.921072540271293\n",
      "friedman_mse,random,sqrt,-0.17850568937917966\n",
      "friedman_mse,random,log2,0.3316809042126361\n",
      "friedman_mse,random,None,0.9476955033291437\n",
      "absolute_error,best,sqrt,0.6767778507244208\n",
      "absolute_error,best,log2,0.8889038289724436\n",
      "absolute_error,best,None,0.9668594647644447\n",
      "absolute_error,random,sqrt,-0.053623822648428465\n",
      "absolute_error,random,log2,0.5866858551960833\n",
      "absolute_error,random,None,0.5592070182811405\n",
      "poisson,best,sqrt,0.4653405606395379\n",
      "poisson,best,log2,0.7656250610762741\n",
      "poisson,best,None,0.920902868420011\n",
      "poisson,random,sqrt,0.6748402515634971\n",
      "poisson,random,log2,0.14479242709286277\n",
      "poisson,random,None,0.9291118550376949\n",
      "\n",
      "Best combination:\n",
      "criterion=absolute_error, splitter=best, max_features=None,r_score=0.9668594647644447\n"
     ]
    }
   ],
   "source": [
    "#print csv header\n",
    "print(\"criterion,splitter,max_features,r_score\")\n",
    "\n",
    "best_combo = find_best_hyperparameters(\n",
    "    param_dict,\n",
    "    x_train, y_train, x_test, y_test,\n",
    "    create_regressor_callback=lambda combo: DecisionTreeRegressor(**combo),\n",
    "    print_combo_callback=lambda combo: print(f'{combo[\"criterion\"]},{combo[\"splitter\"]},{combo[\"max_features\"]},{combo[\"r_score\"]}')\n",
    ")\n",
    "\n",
    "print(\"\\nBest combination:\")\n",
    "print(f'criterion={best_combo[\"criterion\"]}, splitter={best_combo[\"splitter\"]}, max_features={best_combo[\"max_features\"]},r_score={best_combo[\"r_score\"]}')\n"
   ]
  },
  {
   "cell_type": "code",
   "execution_count": null,
   "id": "3771382a-8fc2-4477-8856-7b3788049621",
   "metadata": {},
   "outputs": [],
   "source": []
  },
  {
   "cell_type": "code",
   "execution_count": null,
   "id": "0d25811a-5d5a-440c-8275-87e12a153a5b",
   "metadata": {},
   "outputs": [],
   "source": []
  }
 ],
 "metadata": {
  "kernelspec": {
   "display_name": "Python 3 (ipykernel)",
   "language": "python",
   "name": "python3"
  },
  "language_info": {
   "codemirror_mode": {
    "name": "ipython",
    "version": 3
   },
   "file_extension": ".py",
   "mimetype": "text/x-python",
   "name": "python",
   "nbconvert_exporter": "python",
   "pygments_lexer": "ipython3",
   "version": "3.12.4"
  }
 },
 "nbformat": 4,
 "nbformat_minor": 5
}
