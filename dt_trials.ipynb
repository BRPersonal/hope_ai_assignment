{
 "cells": [
  {
   "cell_type": "code",
   "execution_count": 21,
   "id": "efb0c838-d16f-48bc-a932-7b73533c20ad",
   "metadata": {},
   "outputs": [],
   "source": [
    "import pandas as pd\n",
    "from sklearn.model_selection import train_test_split\n",
    "from sklearn.tree import DecisionTreeRegressor\n",
    "from sklearn.metrics import r2_score\n",
    "from sklearn import tree\n",
    "from utils import generate_parameter_combinations\n"
   ]
  },
  {
   "cell_type": "code",
   "execution_count": 23,
   "id": "babdb9eb-1bc1-4436-a036-7838babda67d",
   "metadata": {},
   "outputs": [],
   "source": [
    "import warnings\n",
    "#suppress warnings\n",
    "warnings.filterwarnings('ignore')"
   ]
  },
  {
   "cell_type": "code",
   "execution_count": 25,
   "id": "cf0db941-3b5a-4020-9d8e-a31fd07e7472",
   "metadata": {},
   "outputs": [],
   "source": [
    "dataset = pd.read_csv(\"50_Startups.csv\")"
   ]
  },
  {
   "cell_type": "code",
   "execution_count": 27,
   "id": "aeeaba27-7226-44d0-b647-fe16589e777d",
   "metadata": {},
   "outputs": [],
   "source": [
    "dataset = pd.get_dummies(dataset, drop_first=True)"
   ]
  },
  {
   "cell_type": "code",
   "execution_count": 29,
   "id": "b3471db8-497f-467b-9ca1-3b183fc1b386",
   "metadata": {},
   "outputs": [],
   "source": [
    "independent_vars = dataset[['R&D Spend', 'Administration', 'Marketing Spend','State_Florida', 'State_New York']]"
   ]
  },
  {
   "cell_type": "code",
   "execution_count": 31,
   "id": "8c668322-d524-4b0a-919c-c8646aa2ab19",
   "metadata": {},
   "outputs": [],
   "source": [
    "dependent_var = dataset[['Profit']]"
   ]
  },
  {
   "cell_type": "code",
   "execution_count": 33,
   "id": "6497dbe0-b401-4624-9b81-c874305afa04",
   "metadata": {},
   "outputs": [],
   "source": [
    "x_train,x_test,y_train,y_test=train_test_split(independent_vars,dependent_var,test_size=0.30,random_state=0)"
   ]
  },
  {
   "cell_type": "code",
   "execution_count": 39,
   "id": "421030b6-22f6-4086-a5b6-2dc85411b36f",
   "metadata": {},
   "outputs": [],
   "source": [
    "param_dict = {\n",
    "    \"criterion\": [\"squared_error\", \"friedman_mse\", \"absolute_error\", \"poisson\"],\n",
    "    \"splitter\" : [\"best\",\"random\"],\n",
    "    \"max_features\": [\"sqrt\", \"log2\",None]\n",
    "}\n"
   ]
  },
  {
   "cell_type": "code",
   "execution_count": 45,
   "id": "f15c0900-da12-4388-9ec0-8aa3b687c03a",
   "metadata": {},
   "outputs": [
    {
     "name": "stdout",
     "output_type": "stream",
     "text": [
      "squared_error,best,sqrt,0.18597602120485812\n",
      "squared_error,best,log2,0.617446280976921\n",
      "squared_error,best,None,0.9255271251892302\n",
      "squared_error,random,sqrt,-0.0012120196444767029\n",
      "squared_error,random,log2,-0.923900612587405\n",
      "squared_error,random,None,0.6176420835295096\n",
      "friedman_mse,best,sqrt,0.09047722393548108\n",
      "friedman_mse,best,log2,0.5876792741239747\n",
      "friedman_mse,best,None,0.9222437938612578\n",
      "friedman_mse,random,sqrt,0.5933237244111906\n",
      "friedman_mse,random,log2,0.08643030491581771\n",
      "friedman_mse,random,None,0.6858953593414545\n",
      "absolute_error,best,sqrt,0.7560728149092735\n",
      "absolute_error,best,log2,-0.5485786244340098\n",
      "absolute_error,best,None,0.9734719142636618\n",
      "absolute_error,random,sqrt,-0.11211007959041575\n",
      "absolute_error,random,log2,0.7580894354094667\n",
      "absolute_error,random,None,0.5672570780099401\n",
      "poisson,best,sqrt,0.3793208710256508\n",
      "poisson,best,log2,0.8162345206432022\n",
      "poisson,best,None,0.9403019035364156\n",
      "poisson,random,sqrt,0.7387428820770441\n",
      "poisson,random,log2,0.8019189828387029\n",
      "poisson,random,None,0.8875685629534535\n",
      "\n",
      "Best combination:\n",
      "criterion=absolute_error, splitter=best, max_features=None,r_score=0.9734719142636618\n"
     ]
    }
   ],
   "source": [
    "combinations = generate_parameter_combinations(param_dict)\n",
    "\n",
    "best_combo = None\n",
    "max_r_score = float('-inf')\n",
    "\n",
    "for combo in combinations:\n",
    "    regressor = DecisionTreeRegressor(**combo)\n",
    "    regressor.fit(x_train,y_train)\n",
    "    y_predict = regressor.predict(x_test)\n",
    "    r_score = r2_score(y_test,y_predict)\n",
    "    combo[\"r_score\"] = r_score\n",
    "    print(f'{combo[\"criterion\"]},{combo[\"splitter\"]},{combo[\"max_features\"]},{combo[\"r_score\"]}')\n",
    "\n",
    "    if r_score > max_r_score:\n",
    "        max_r_score = r_score\n",
    "        best_combo = combo.copy()\n",
    "        \n",
    "print(\"\\nBest combination:\")\n",
    "print(f'criterion={best_combo[\"criterion\"]}, splitter={best_combo[\"splitter\"]}, max_features={best_combo[\"max_features\"]},r_score={best_combo[\"r_score\"]}')\n"
   ]
  },
  {
   "cell_type": "code",
   "execution_count": null,
   "id": "3771382a-8fc2-4477-8856-7b3788049621",
   "metadata": {},
   "outputs": [],
   "source": []
  }
 ],
 "metadata": {
  "kernelspec": {
   "display_name": "Python 3 (ipykernel)",
   "language": "python",
   "name": "python3"
  },
  "language_info": {
   "codemirror_mode": {
    "name": "ipython",
    "version": 3
   },
   "file_extension": ".py",
   "mimetype": "text/x-python",
   "name": "python",
   "nbconvert_exporter": "python",
   "pygments_lexer": "ipython3",
   "version": "3.12.4"
  }
 },
 "nbformat": 4,
 "nbformat_minor": 5
}
