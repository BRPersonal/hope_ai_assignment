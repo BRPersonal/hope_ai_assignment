{
 "cells": [
  {
   "cell_type": "code",
   "execution_count": 35,
   "id": "e8635ef6-6993-4293-81d0-558c3cf66f42",
   "metadata": {},
   "outputs": [],
   "source": [
    "import pandas as pd\n",
    "from sklearn.model_selection import train_test_split\n",
    "from sklearn.svm import SVR\n",
    "from sklearn.preprocessing import StandardScaler\n",
    "from sklearn.pipeline import make_pipeline\n",
    "from sklearn.metrics import r2_score\n",
    "from utils import generate_parameter_combinations"
   ]
  },
  {
   "cell_type": "code",
   "execution_count": 2,
   "id": "7bc6e9bd-e35d-41ec-946a-842fb8198cc6",
   "metadata": {},
   "outputs": [],
   "source": [
    "import warnings\n",
    "#suppress warnings\n",
    "warnings.filterwarnings('ignore')"
   ]
  },
  {
   "cell_type": "code",
   "execution_count": 15,
   "id": "778bc0f0-b3ac-48fb-90e4-3c0a6e5d6771",
   "metadata": {},
   "outputs": [],
   "source": [
    "dataset = pd.read_csv(\"50_Startups.csv\")"
   ]
  },
  {
   "cell_type": "code",
   "execution_count": 17,
   "id": "c3869dd5-a22e-437b-b7d4-f757d6d55013",
   "metadata": {},
   "outputs": [],
   "source": [
    "dataset = pd.get_dummies(dataset,drop_first=True)"
   ]
  },
  {
   "cell_type": "code",
   "execution_count": 19,
   "id": "70ba9828-5cb7-47b5-ac3f-7dcc9e1498b4",
   "metadata": {},
   "outputs": [],
   "source": [
    "independent_vars = dataset[['R&D Spend', 'Administration', 'Marketing Spend','State_Florida', 'State_New York']]"
   ]
  },
  {
   "cell_type": "code",
   "execution_count": 21,
   "id": "00e4811a-a7e9-4479-afaa-b82e0bb67530",
   "metadata": {},
   "outputs": [],
   "source": [
    "dependent_var = dataset[[\"Profit\"]]"
   ]
  },
  {
   "cell_type": "code",
   "execution_count": 23,
   "id": "8d01ed3f-2d0b-438a-88a1-2a0d7cea07a9",
   "metadata": {},
   "outputs": [],
   "source": [
    "x_train,x_test,y_train,y_test=train_test_split(independent_vars,dependent_var,test_size=0.30,random_state=0)"
   ]
  },
  {
   "cell_type": "code",
   "execution_count": 27,
   "id": "82c4c2ae-7d8b-4c2c-8b11-32bb75163457",
   "metadata": {},
   "outputs": [],
   "source": [
    "param_dict = {\n",
    "    \"C\": [10,100,500,1000,2000,3000],\n",
    "    \"kernel\": [\"linear\", \"poly\", \"rbf\", \"sigmoid\"]\n",
    "}"
   ]
  },
  {
   "cell_type": "code",
   "execution_count": 41,
   "id": "4976ad79-7066-41ed-884f-7a5143411103",
   "metadata": {},
   "outputs": [
    {
     "name": "stdout",
     "output_type": "stream",
     "text": [
      "10,linear,-0.03964494678192798\n",
      "10,poly,-0.05366720512712608\n",
      "10,rbf,-0.05680759285862336\n",
      "10,sigmoid,-0.05471958332940319\n",
      "100,linear,0.10646819600577351\n",
      "100,poly,-0.019802139315272305\n",
      "100,rbf,-0.05072602278128757\n",
      "100,sigmoid,-0.03045351486430925\n",
      "500,linear,0.5928977271145746\n",
      "500,poly,0.11468480742657639\n",
      "500,rbf,-0.024323348197438532\n",
      "500,sigmoid,0.07057214489673913\n",
      "1000,linear,0.7802839882154124\n",
      "1000,poly,0.26616370931646915\n",
      "1000,rbf,0.0067683444800727965\n",
      "1000,sigmoid,0.18506861974160804\n",
      "2000,linear,0.8767721687716041\n",
      "2000,poly,0.4810028155606567\n",
      "2000,rbf,0.06751554270553017\n",
      "2000,sigmoid,0.39706528684272135\n",
      "3000,linear,0.895674469433492\n",
      "3000,poly,0.6370064223754037\n",
      "3000,rbf,0.12322756620227582\n",
      "3000,sigmoid,0.5913630209426107\n",
      "\n",
      "Best combination:\n",
      "C=3000, kernel=linear, r_score=0.895674469433492\n"
     ]
    }
   ],
   "source": [
    "combinations = generate_parameter_combinations(param_dict)\n",
    "\n",
    "best_combo = None\n",
    "max_r_score = float('-inf')\n",
    "\n",
    "for combo in combinations:\n",
    "    regressor = make_pipeline(StandardScaler(), SVR(**combo))\n",
    "    regressor.fit(x_train,y_train)\n",
    "    y_predict = regressor.predict(x_test)\n",
    "    r_score = r2_score(y_test,y_predict)\n",
    "    combo[\"r_score\"] = r_score\n",
    "    print(f'{combo[\"C\"]},{combo[\"kernel\"]},{combo[\"r_score\"]}')\n",
    "\n",
    "    if r_score > max_r_score:\n",
    "        max_r_score = r_score\n",
    "        best_combo = combo.copy()\n",
    "\n",
    "print(\"\\nBest combination:\")\n",
    "print(f'C={best_combo[\"C\"]}, kernel={best_combo[\"kernel\"]}, r_score={best_combo[\"r_score\"]}')\n",
    "    "
   ]
  },
  {
   "cell_type": "code",
   "execution_count": null,
   "id": "5fed4ba2-eb95-4547-8199-358fcf404678",
   "metadata": {},
   "outputs": [],
   "source": []
  }
 ],
 "metadata": {
  "kernelspec": {
   "display_name": "Python 3 (ipykernel)",
   "language": "python",
   "name": "python3"
  },
  "language_info": {
   "codemirror_mode": {
    "name": "ipython",
    "version": 3
   },
   "file_extension": ".py",
   "mimetype": "text/x-python",
   "name": "python",
   "nbconvert_exporter": "python",
   "pygments_lexer": "ipython3",
   "version": "3.12.4"
  }
 },
 "nbformat": 4,
 "nbformat_minor": 5
}
