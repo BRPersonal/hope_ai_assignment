{
 "cells": [
  {
   "cell_type": "code",
   "execution_count": null,
   "id": "e0f145ed-67b6-4592-ab44-1fd3ebb7348a",
   "metadata": {},
   "outputs": [],
   "source": [
    "import pandas as pd\n",
    "from sklearn.model_selection import train_test_split\n",
    "from sklearn.svm import SVR\n",
    "from sklearn.preprocessing import StandardScaler\n",
    "from sklearn.pipeline import make_pipeline\n",
    "from sklearn.metrics import r2_score\n",
    "\n",
    "##These 3 lines are needed to make utils module accessible to this module\n",
    "import sys\n",
    "import os\n",
    "sys.path.append(os.path.dirname(os.path.dirname(os.path.abspath(\"non-existent.txt\"))))\n",
    "\n",
    "from utils.utils import find_best_hyperparameters"
   ]
  },
  {
   "cell_type": "code",
   "execution_count": null,
   "id": "47476836-5692-4216-99ea-7cd918e5822c",
   "metadata": {},
   "outputs": [],
   "source": [
    "import warnings\n",
    "#suppress warnings\n",
    "warnings.filterwarnings('ignore')"
   ]
  },
  {
   "cell_type": "code",
   "execution_count": null,
   "id": "e0e6f57e-e175-4476-a3e5-170da6c3742c",
   "metadata": {},
   "outputs": [],
   "source": [
    "dataset = pd.read_csv(\"insurance_pre.csv\")"
   ]
  },
  {
   "cell_type": "code",
   "execution_count": null,
   "id": "fe0176e7-de91-41f2-9bad-3a6ef5ec57e5",
   "metadata": {},
   "outputs": [],
   "source": [
    "dataset.head()"
   ]
  },
  {
   "cell_type": "code",
   "execution_count": null,
   "id": "991f3bce-e0e2-4df0-adb1-06a310da99fa",
   "metadata": {},
   "outputs": [],
   "source": [
    "dataset = pd.get_dummies(dataset,drop_first=True)"
   ]
  },
  {
   "cell_type": "code",
   "execution_count": null,
   "id": "c30b930d-1d2b-422e-a779-68703b6bf77d",
   "metadata": {},
   "outputs": [],
   "source": [
    "dataset.head()"
   ]
  },
  {
   "cell_type": "code",
   "execution_count": null,
   "id": "341b2d4c-8291-4308-9cf4-3e9f20e8ac14",
   "metadata": {},
   "outputs": [],
   "source": [
    "independent_vars = [\"age\",\"bmi\",\"children\",\"sex_male\",\"smoker_yes\"]"
   ]
  },
  {
   "cell_type": "code",
   "execution_count": null,
   "id": "bacf7ffa-a0ed-4043-9fb9-18fdf6d0e2f6",
   "metadata": {},
   "outputs": [],
   "source": [
    "x = dataset[independent_vars]"
   ]
  },
  {
   "cell_type": "code",
   "execution_count": null,
   "id": "83c595d2-48a1-4754-83df-96d7512f03ff",
   "metadata": {},
   "outputs": [],
   "source": [
    "x.head()"
   ]
  },
  {
   "cell_type": "code",
   "execution_count": null,
   "id": "341c9cbd-e59e-4bfa-be50-bfe9f2cb1ec0",
   "metadata": {},
   "outputs": [],
   "source": [
    "x.shape"
   ]
  },
  {
   "cell_type": "code",
   "execution_count": null,
   "id": "5317b565-8280-4026-b3e7-2656be101e11",
   "metadata": {},
   "outputs": [],
   "source": [
    "dependent_vars = [\"charges\"]"
   ]
  },
  {
   "cell_type": "code",
   "execution_count": null,
   "id": "8df179d6-f173-4d26-a260-83f4ec8da332",
   "metadata": {},
   "outputs": [],
   "source": [
    "y=dataset[dependent_vars]"
   ]
  },
  {
   "cell_type": "code",
   "execution_count": null,
   "id": "9a815be0-7f69-42f2-ba31-5299730cfd9b",
   "metadata": {},
   "outputs": [],
   "source": [
    "y.head()"
   ]
  },
  {
   "cell_type": "code",
   "execution_count": null,
   "id": "cbbbdaea-5953-4178-9731-048b758e9e97",
   "metadata": {},
   "outputs": [],
   "source": [
    "y.shape"
   ]
  },
  {
   "cell_type": "code",
   "execution_count": null,
   "id": "44a6a7de-0c51-41b2-ba20-51ed13890b8e",
   "metadata": {},
   "outputs": [],
   "source": [
    "x_train,x_test,y_train,y_test=train_test_split(x,y,test_size=0.30,random_state=0)"
   ]
  },
  {
   "cell_type": "code",
   "execution_count": null,
   "id": "b00815bd-7826-4764-aff7-5f952c9f1fe5",
   "metadata": {},
   "outputs": [],
   "source": [
    "param_dict = {\n",
    "    \"C\": [10,100,500,1000,2000,3000],\n",
    "    \"kernel\": [\"linear\", \"poly\", \"rbf\", \"sigmoid\"]\n",
    "}"
   ]
  },
  {
   "cell_type": "code",
   "execution_count": null,
   "id": "d6c0e38e-b2f1-4663-875d-bf394458357d",
   "metadata": {},
   "outputs": [],
   "source": [
    "#print csv header\n",
    "print(\"C,kernel,r_score\")\n",
    "\n",
    "best_combo = find_best_hyperparameters(\n",
    "    param_dict,\n",
    "    x_train, y_train, x_test, y_test,\n",
    "    create_regressor_callback=lambda combo: make_pipeline(StandardScaler(), SVR(**combo)),\n",
    "    print_combo_callback=lambda combo: print(f'{combo[\"C\"]},{combo[\"kernel\"]},{combo[\"r_score\"]}')\n",
    ")\n",
    "\n",
    "print(\"\\nBest combination:\")\n",
    "print(f'C={best_combo[\"C\"]}, kernel={best_combo[\"kernel\"]}, r_score={best_combo[\"r_score\"]}')\n",
    "    "
   ]
  },
  {
   "cell_type": "code",
   "execution_count": null,
   "id": "02a6884c-762f-4bd9-a3c1-6077f6e85c15",
   "metadata": {},
   "outputs": [],
   "source": []
  }
 ],
 "metadata": {
  "kernelspec": {
   "display_name": "Python 3 (ipykernel)",
   "language": "python",
   "name": "python3"
  },
  "language_info": {
   "codemirror_mode": {
    "name": "ipython",
    "version": 3
   },
   "file_extension": ".py",
   "mimetype": "text/x-python",
   "name": "python",
   "nbconvert_exporter": "python",
   "pygments_lexer": "ipython3",
   "version": "3.12.4"
  }
 },
 "nbformat": 4,
 "nbformat_minor": 5
}
