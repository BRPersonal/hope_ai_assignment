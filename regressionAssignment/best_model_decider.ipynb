{
 "cells": [
  {
   "cell_type": "code",
   "execution_count": 61,
   "id": "e0f145ed-67b6-4592-ab44-1fd3ebb7348a",
   "metadata": {},
   "outputs": [],
   "source": [
    "import pandas as pd\n",
    "from sklearn.model_selection import train_test_split\n",
    "from sklearn.linear_model import LinearRegression\n",
    "from sklearn.svm import SVR\n",
    "from sklearn.tree import DecisionTreeRegressor\n",
    "from sklearn import tree\n",
    "from sklearn.preprocessing import StandardScaler\n",
    "from sklearn.pipeline import make_pipeline\n",
    "from sklearn.ensemble import RandomForestRegressor\n",
    "from sklearn.metrics import r2_score\n",
    "import pickle\n",
    "\n",
    "##These 3 lines are needed to make utils module accessible to this module\n",
    "import sys\n",
    "import os\n",
    "sys.path.append(os.path.dirname(os.path.dirname(os.path.abspath(\"non-existent.txt\"))))\n",
    "\n",
    "from utils.utils import find_best_hyperparameters"
   ]
  },
  {
   "cell_type": "code",
   "execution_count": 4,
   "id": "47476836-5692-4216-99ea-7cd918e5822c",
   "metadata": {},
   "outputs": [],
   "source": [
    "import warnings\n",
    "#suppress warnings\n",
    "warnings.filterwarnings('ignore')"
   ]
  },
  {
   "cell_type": "code",
   "execution_count": 5,
   "id": "e0e6f57e-e175-4476-a3e5-170da6c3742c",
   "metadata": {},
   "outputs": [],
   "source": [
    "dataset = pd.read_csv(\"insurance_pre.csv\")"
   ]
  },
  {
   "cell_type": "code",
   "execution_count": 6,
   "id": "fe0176e7-de91-41f2-9bad-3a6ef5ec57e5",
   "metadata": {},
   "outputs": [
    {
     "data": {
      "text/html": [
       "<div>\n",
       "<style scoped>\n",
       "    .dataframe tbody tr th:only-of-type {\n",
       "        vertical-align: middle;\n",
       "    }\n",
       "\n",
       "    .dataframe tbody tr th {\n",
       "        vertical-align: top;\n",
       "    }\n",
       "\n",
       "    .dataframe thead th {\n",
       "        text-align: right;\n",
       "    }\n",
       "</style>\n",
       "<table border=\"1\" class=\"dataframe\">\n",
       "  <thead>\n",
       "    <tr style=\"text-align: right;\">\n",
       "      <th></th>\n",
       "      <th>age</th>\n",
       "      <th>sex</th>\n",
       "      <th>bmi</th>\n",
       "      <th>children</th>\n",
       "      <th>smoker</th>\n",
       "      <th>charges</th>\n",
       "    </tr>\n",
       "  </thead>\n",
       "  <tbody>\n",
       "    <tr>\n",
       "      <th>0</th>\n",
       "      <td>19</td>\n",
       "      <td>female</td>\n",
       "      <td>27.900</td>\n",
       "      <td>0</td>\n",
       "      <td>yes</td>\n",
       "      <td>16884.92400</td>\n",
       "    </tr>\n",
       "    <tr>\n",
       "      <th>1</th>\n",
       "      <td>18</td>\n",
       "      <td>male</td>\n",
       "      <td>33.770</td>\n",
       "      <td>1</td>\n",
       "      <td>no</td>\n",
       "      <td>1725.55230</td>\n",
       "    </tr>\n",
       "    <tr>\n",
       "      <th>2</th>\n",
       "      <td>28</td>\n",
       "      <td>male</td>\n",
       "      <td>33.000</td>\n",
       "      <td>3</td>\n",
       "      <td>no</td>\n",
       "      <td>4449.46200</td>\n",
       "    </tr>\n",
       "    <tr>\n",
       "      <th>3</th>\n",
       "      <td>33</td>\n",
       "      <td>male</td>\n",
       "      <td>22.705</td>\n",
       "      <td>0</td>\n",
       "      <td>no</td>\n",
       "      <td>21984.47061</td>\n",
       "    </tr>\n",
       "    <tr>\n",
       "      <th>4</th>\n",
       "      <td>32</td>\n",
       "      <td>male</td>\n",
       "      <td>28.880</td>\n",
       "      <td>0</td>\n",
       "      <td>no</td>\n",
       "      <td>3866.85520</td>\n",
       "    </tr>\n",
       "  </tbody>\n",
       "</table>\n",
       "</div>"
      ],
      "text/plain": [
       "   age     sex     bmi  children smoker      charges\n",
       "0   19  female  27.900         0    yes  16884.92400\n",
       "1   18    male  33.770         1     no   1725.55230\n",
       "2   28    male  33.000         3     no   4449.46200\n",
       "3   33    male  22.705         0     no  21984.47061\n",
       "4   32    male  28.880         0     no   3866.85520"
      ]
     },
     "execution_count": 6,
     "metadata": {},
     "output_type": "execute_result"
    }
   ],
   "source": [
    "dataset.head()"
   ]
  },
  {
   "cell_type": "code",
   "execution_count": 7,
   "id": "bc88e418-e30e-41e6-84f7-857101dd9850",
   "metadata": {},
   "outputs": [
    {
     "name": "stdout",
     "output_type": "stream",
     "text": [
      "<class 'pandas.core.frame.DataFrame'>\n",
      "RangeIndex: 1338 entries, 0 to 1337\n",
      "Data columns (total 6 columns):\n",
      " #   Column    Non-Null Count  Dtype  \n",
      "---  ------    --------------  -----  \n",
      " 0   age       1338 non-null   int64  \n",
      " 1   sex       1338 non-null   object \n",
      " 2   bmi       1338 non-null   float64\n",
      " 3   children  1338 non-null   int64  \n",
      " 4   smoker    1338 non-null   object \n",
      " 5   charges   1338 non-null   float64\n",
      "dtypes: float64(2), int64(2), object(2)\n",
      "memory usage: 62.8+ KB\n"
     ]
    }
   ],
   "source": [
    "#check for any null values. If Non-null count is not equal to total rows then we need to drop rows with null columns\n",
    "dataset.info()"
   ]
  },
  {
   "cell_type": "code",
   "execution_count": 8,
   "id": "991f3bce-e0e2-4df0-adb1-06a310da99fa",
   "metadata": {},
   "outputs": [],
   "source": [
    "dataset = pd.get_dummies(dataset,drop_first=True)"
   ]
  },
  {
   "cell_type": "code",
   "execution_count": 15,
   "id": "749eab98-366f-435d-8d2c-0891668cafb3",
   "metadata": {},
   "outputs": [
    {
     "name": "stdout",
     "output_type": "stream",
     "text": [
      "<class 'pandas.core.frame.DataFrame'>\n",
      "RangeIndex: 1338 entries, 0 to 1337\n",
      "Data columns (total 6 columns):\n",
      " #   Column      Non-Null Count  Dtype  \n",
      "---  ------      --------------  -----  \n",
      " 0   age         1338 non-null   int64  \n",
      " 1   bmi         1338 non-null   float64\n",
      " 2   children    1338 non-null   int64  \n",
      " 3   charges     1338 non-null   float64\n",
      " 4   sex_male    1338 non-null   bool   \n",
      " 5   smoker_yes  1338 non-null   bool   \n",
      "dtypes: bool(2), float64(2), int64(2)\n",
      "memory usage: 44.6 KB\n"
     ]
    }
   ],
   "source": [
    "#check how the columns have transformed\n",
    "dataset.info()"
   ]
  },
  {
   "cell_type": "code",
   "execution_count": 17,
   "id": "c30b930d-1d2b-422e-a779-68703b6bf77d",
   "metadata": {},
   "outputs": [
    {
     "data": {
      "text/html": [
       "<div>\n",
       "<style scoped>\n",
       "    .dataframe tbody tr th:only-of-type {\n",
       "        vertical-align: middle;\n",
       "    }\n",
       "\n",
       "    .dataframe tbody tr th {\n",
       "        vertical-align: top;\n",
       "    }\n",
       "\n",
       "    .dataframe thead th {\n",
       "        text-align: right;\n",
       "    }\n",
       "</style>\n",
       "<table border=\"1\" class=\"dataframe\">\n",
       "  <thead>\n",
       "    <tr style=\"text-align: right;\">\n",
       "      <th></th>\n",
       "      <th>age</th>\n",
       "      <th>bmi</th>\n",
       "      <th>children</th>\n",
       "      <th>charges</th>\n",
       "      <th>sex_male</th>\n",
       "      <th>smoker_yes</th>\n",
       "    </tr>\n",
       "  </thead>\n",
       "  <tbody>\n",
       "    <tr>\n",
       "      <th>0</th>\n",
       "      <td>19</td>\n",
       "      <td>27.900</td>\n",
       "      <td>0</td>\n",
       "      <td>16884.92400</td>\n",
       "      <td>False</td>\n",
       "      <td>True</td>\n",
       "    </tr>\n",
       "    <tr>\n",
       "      <th>1</th>\n",
       "      <td>18</td>\n",
       "      <td>33.770</td>\n",
       "      <td>1</td>\n",
       "      <td>1725.55230</td>\n",
       "      <td>True</td>\n",
       "      <td>False</td>\n",
       "    </tr>\n",
       "    <tr>\n",
       "      <th>2</th>\n",
       "      <td>28</td>\n",
       "      <td>33.000</td>\n",
       "      <td>3</td>\n",
       "      <td>4449.46200</td>\n",
       "      <td>True</td>\n",
       "      <td>False</td>\n",
       "    </tr>\n",
       "    <tr>\n",
       "      <th>3</th>\n",
       "      <td>33</td>\n",
       "      <td>22.705</td>\n",
       "      <td>0</td>\n",
       "      <td>21984.47061</td>\n",
       "      <td>True</td>\n",
       "      <td>False</td>\n",
       "    </tr>\n",
       "    <tr>\n",
       "      <th>4</th>\n",
       "      <td>32</td>\n",
       "      <td>28.880</td>\n",
       "      <td>0</td>\n",
       "      <td>3866.85520</td>\n",
       "      <td>True</td>\n",
       "      <td>False</td>\n",
       "    </tr>\n",
       "  </tbody>\n",
       "</table>\n",
       "</div>"
      ],
      "text/plain": [
       "   age     bmi  children      charges  sex_male  smoker_yes\n",
       "0   19  27.900         0  16884.92400     False        True\n",
       "1   18  33.770         1   1725.55230      True       False\n",
       "2   28  33.000         3   4449.46200      True       False\n",
       "3   33  22.705         0  21984.47061      True       False\n",
       "4   32  28.880         0   3866.85520      True       False"
      ]
     },
     "execution_count": 17,
     "metadata": {},
     "output_type": "execute_result"
    }
   ],
   "source": [
    "dataset.head()"
   ]
  },
  {
   "cell_type": "code",
   "execution_count": 19,
   "id": "341b2d4c-8291-4308-9cf4-3e9f20e8ac14",
   "metadata": {},
   "outputs": [],
   "source": [
    "independent_vars = [\"age\",\"bmi\",\"children\",\"sex_male\",\"smoker_yes\"]"
   ]
  },
  {
   "cell_type": "code",
   "execution_count": 21,
   "id": "bacf7ffa-a0ed-4043-9fb9-18fdf6d0e2f6",
   "metadata": {},
   "outputs": [],
   "source": [
    "x = dataset[independent_vars]"
   ]
  },
  {
   "cell_type": "code",
   "execution_count": 23,
   "id": "83c595d2-48a1-4754-83df-96d7512f03ff",
   "metadata": {},
   "outputs": [
    {
     "data": {
      "text/html": [
       "<div>\n",
       "<style scoped>\n",
       "    .dataframe tbody tr th:only-of-type {\n",
       "        vertical-align: middle;\n",
       "    }\n",
       "\n",
       "    .dataframe tbody tr th {\n",
       "        vertical-align: top;\n",
       "    }\n",
       "\n",
       "    .dataframe thead th {\n",
       "        text-align: right;\n",
       "    }\n",
       "</style>\n",
       "<table border=\"1\" class=\"dataframe\">\n",
       "  <thead>\n",
       "    <tr style=\"text-align: right;\">\n",
       "      <th></th>\n",
       "      <th>age</th>\n",
       "      <th>bmi</th>\n",
       "      <th>children</th>\n",
       "      <th>sex_male</th>\n",
       "      <th>smoker_yes</th>\n",
       "    </tr>\n",
       "  </thead>\n",
       "  <tbody>\n",
       "    <tr>\n",
       "      <th>0</th>\n",
       "      <td>19</td>\n",
       "      <td>27.900</td>\n",
       "      <td>0</td>\n",
       "      <td>False</td>\n",
       "      <td>True</td>\n",
       "    </tr>\n",
       "    <tr>\n",
       "      <th>1</th>\n",
       "      <td>18</td>\n",
       "      <td>33.770</td>\n",
       "      <td>1</td>\n",
       "      <td>True</td>\n",
       "      <td>False</td>\n",
       "    </tr>\n",
       "    <tr>\n",
       "      <th>2</th>\n",
       "      <td>28</td>\n",
       "      <td>33.000</td>\n",
       "      <td>3</td>\n",
       "      <td>True</td>\n",
       "      <td>False</td>\n",
       "    </tr>\n",
       "    <tr>\n",
       "      <th>3</th>\n",
       "      <td>33</td>\n",
       "      <td>22.705</td>\n",
       "      <td>0</td>\n",
       "      <td>True</td>\n",
       "      <td>False</td>\n",
       "    </tr>\n",
       "    <tr>\n",
       "      <th>4</th>\n",
       "      <td>32</td>\n",
       "      <td>28.880</td>\n",
       "      <td>0</td>\n",
       "      <td>True</td>\n",
       "      <td>False</td>\n",
       "    </tr>\n",
       "  </tbody>\n",
       "</table>\n",
       "</div>"
      ],
      "text/plain": [
       "   age     bmi  children  sex_male  smoker_yes\n",
       "0   19  27.900         0     False        True\n",
       "1   18  33.770         1      True       False\n",
       "2   28  33.000         3      True       False\n",
       "3   33  22.705         0      True       False\n",
       "4   32  28.880         0      True       False"
      ]
     },
     "execution_count": 23,
     "metadata": {},
     "output_type": "execute_result"
    }
   ],
   "source": [
    "x.head()"
   ]
  },
  {
   "cell_type": "code",
   "execution_count": 25,
   "id": "341c9cbd-e59e-4bfa-be50-bfe9f2cb1ec0",
   "metadata": {},
   "outputs": [
    {
     "data": {
      "text/plain": [
       "(1338, 5)"
      ]
     },
     "execution_count": 25,
     "metadata": {},
     "output_type": "execute_result"
    }
   ],
   "source": [
    "x.shape"
   ]
  },
  {
   "cell_type": "code",
   "execution_count": 27,
   "id": "5317b565-8280-4026-b3e7-2656be101e11",
   "metadata": {},
   "outputs": [],
   "source": [
    "dependent_vars = [\"charges\"]"
   ]
  },
  {
   "cell_type": "code",
   "execution_count": 29,
   "id": "8df179d6-f173-4d26-a260-83f4ec8da332",
   "metadata": {},
   "outputs": [],
   "source": [
    "y=dataset[dependent_vars]"
   ]
  },
  {
   "cell_type": "code",
   "execution_count": 31,
   "id": "9a815be0-7f69-42f2-ba31-5299730cfd9b",
   "metadata": {},
   "outputs": [
    {
     "data": {
      "text/html": [
       "<div>\n",
       "<style scoped>\n",
       "    .dataframe tbody tr th:only-of-type {\n",
       "        vertical-align: middle;\n",
       "    }\n",
       "\n",
       "    .dataframe tbody tr th {\n",
       "        vertical-align: top;\n",
       "    }\n",
       "\n",
       "    .dataframe thead th {\n",
       "        text-align: right;\n",
       "    }\n",
       "</style>\n",
       "<table border=\"1\" class=\"dataframe\">\n",
       "  <thead>\n",
       "    <tr style=\"text-align: right;\">\n",
       "      <th></th>\n",
       "      <th>charges</th>\n",
       "    </tr>\n",
       "  </thead>\n",
       "  <tbody>\n",
       "    <tr>\n",
       "      <th>0</th>\n",
       "      <td>16884.92400</td>\n",
       "    </tr>\n",
       "    <tr>\n",
       "      <th>1</th>\n",
       "      <td>1725.55230</td>\n",
       "    </tr>\n",
       "    <tr>\n",
       "      <th>2</th>\n",
       "      <td>4449.46200</td>\n",
       "    </tr>\n",
       "    <tr>\n",
       "      <th>3</th>\n",
       "      <td>21984.47061</td>\n",
       "    </tr>\n",
       "    <tr>\n",
       "      <th>4</th>\n",
       "      <td>3866.85520</td>\n",
       "    </tr>\n",
       "  </tbody>\n",
       "</table>\n",
       "</div>"
      ],
      "text/plain": [
       "       charges\n",
       "0  16884.92400\n",
       "1   1725.55230\n",
       "2   4449.46200\n",
       "3  21984.47061\n",
       "4   3866.85520"
      ]
     },
     "execution_count": 31,
     "metadata": {},
     "output_type": "execute_result"
    }
   ],
   "source": [
    "y.head()"
   ]
  },
  {
   "cell_type": "code",
   "execution_count": 33,
   "id": "cbbbdaea-5953-4178-9731-048b758e9e97",
   "metadata": {},
   "outputs": [
    {
     "data": {
      "text/plain": [
       "(1338, 1)"
      ]
     },
     "execution_count": 33,
     "metadata": {},
     "output_type": "execute_result"
    }
   ],
   "source": [
    "y.shape"
   ]
  },
  {
   "cell_type": "code",
   "execution_count": 35,
   "id": "44a6a7de-0c51-41b2-ba20-51ed13890b8e",
   "metadata": {},
   "outputs": [],
   "source": [
    "x_train,x_test,y_train,y_test=train_test_split(x,y,test_size=0.30,random_state=0)"
   ]
  },
  {
   "cell_type": "code",
   "execution_count": 37,
   "id": "be18b2d6-7999-4fd1-a2b9-208702e0bf66",
   "metadata": {},
   "outputs": [],
   "source": [
    "def find_best_model_lr() -> dict:\n",
    "    print(\"------------Findings of Multiple LR---------------------------\")\n",
    "    best_combo = dict()\n",
    "    \n",
    "    #There are no hyper parameters to be set. We will just get the r_score\n",
    "    regressor = LinearRegression()\n",
    "    regressor.fit(x_train, y_train)\n",
    "    y_predict = regressor.predict(x_test)\n",
    "    r_score = r2_score(y_test, y_predict)\n",
    "    best_combo[\"regressor\"] = regressor\n",
    "    best_combo[\"r_score\"] = r_score\n",
    "    print(f'r_score={best_combo[\"r_score\"]}')\n",
    "\n",
    "    return best_combo\n",
    "    "
   ]
  },
  {
   "cell_type": "code",
   "execution_count": 39,
   "id": "4da1366e-1cdd-4941-82f4-c2623ce0475f",
   "metadata": {},
   "outputs": [],
   "source": [
    "def find_best_model_svr() -> dict:\n",
    "    param_dict = {\n",
    "        \"C\": [10,100,500,1000,2000,3000],\n",
    "        \"kernel\": [\"linear\", \"poly\", \"rbf\", \"sigmoid\"]\n",
    "    }\n",
    "\n",
    "    print(\"------------Findings of SVR---------------------------\")\n",
    "    #print csv header\n",
    "    print(\"C,kernel,r_score\")\n",
    "    \n",
    "    best_combo = find_best_hyperparameters(\n",
    "        param_dict,\n",
    "        x_train, y_train, x_test, y_test,\n",
    "        create_regressor_callback=lambda combo: make_pipeline(StandardScaler(), SVR(**combo)),\n",
    "        print_combo_callback=lambda combo: print(f'{combo[\"C\"]},{combo[\"kernel\"]},{combo[\"r_score\"]}')\n",
    "    )\n",
    "    \n",
    "    print(\"\\nBest combination:\")\n",
    "    print(f'C={best_combo[\"C\"]}, kernel={best_combo[\"kernel\"]}, r_score={best_combo[\"r_score\"]}')\n",
    "\n",
    "    return best_combo\n",
    "\n"
   ]
  },
  {
   "cell_type": "code",
   "execution_count": 41,
   "id": "f1b23409-db7e-4d31-b988-dfe3f8a7d9ed",
   "metadata": {},
   "outputs": [],
   "source": [
    "def find_best_model_dt() -> dict:\n",
    "    param_dict = {\n",
    "        \"criterion\": [\"squared_error\", \"friedman_mse\", \"absolute_error\", \"poisson\"],\n",
    "        \"splitter\" : [\"best\",\"random\"],\n",
    "        \"max_features\": [\"sqrt\", \"log2\",None]\n",
    "    }\n",
    "\n",
    "    print(\"------------Findings of DecisionTree---------------------------\")\n",
    "\n",
    "    #print csv header\n",
    "    print(\"criterion,splitter,max_features,r_score\")\n",
    "    \n",
    "    best_combo = find_best_hyperparameters(\n",
    "        param_dict,\n",
    "        x_train, y_train, x_test, y_test,\n",
    "        create_regressor_callback=lambda combo: DecisionTreeRegressor(**combo),\n",
    "        print_combo_callback=lambda combo: print(f'{combo[\"criterion\"]},{combo[\"splitter\"]},{combo[\"max_features\"]},{combo[\"r_score\"]}')\n",
    "    )\n",
    "    \n",
    "    print(\"\\nBest combination:\")\n",
    "    print(f'criterion={best_combo[\"criterion\"]}, splitter={best_combo[\"splitter\"]}, max_features={best_combo[\"max_features\"]},r_score={best_combo[\"r_score\"]}')\n",
    "\n",
    "    return best_combo\n",
    "\n",
    "    "
   ]
  },
  {
   "cell_type": "code",
   "execution_count": 43,
   "id": "32109914-5252-4198-a27d-5faf9834da03",
   "metadata": {},
   "outputs": [],
   "source": [
    "def find_best_model_rf() -> dict:\n",
    "    param_dict = {\n",
    "        \"n_estimators\": [50,100,200,500],\n",
    "        \"max_depth\" : [None,10,20,30],\n",
    "        \"min_samples_split\": [2,4,8],\n",
    "        \"max_features\": [1.0,\"sqrt\", \"log2\",None],\n",
    "        \"random_state\": [0]\n",
    "    }\n",
    "    print(\"------------Findings of RandomForest---------------------------\")\n",
    "\n",
    "    #print csv header\n",
    "    print(\"n_estimators,max_depth,min_samples_split,max_features,random_state,r_score\")\n",
    "    \n",
    "    best_combo = find_best_hyperparameters(\n",
    "        param_dict,\n",
    "        x_train, y_train, x_test, y_test,\n",
    "        create_regressor_callback=lambda combo: RandomForestRegressor(**combo),\n",
    "        print_combo_callback=lambda combo: print(f'{combo[\"n_estimators\"]},{combo[\"max_depth\"]},{combo[\"min_samples_split\"]},{combo[\"max_features\"]},{combo[\"random_state\"]},{combo[\"r_score\"]}')\n",
    "    )\n",
    "    \n",
    "    print(\"\\nBest combination:\")\n",
    "    print(f'n_estimators={best_combo[\"n_estimators\"]}, max_depth={best_combo[\"max_depth\"]}, min_samples_split={best_combo[\"min_samples_split\"]},max_features={best_combo[\"max_features\"]},random_state={best_combo[\"random_state\"]},r_score={best_combo[\"r_score\"]}')\n",
    "\n",
    "    return best_combo\n"
   ]
  },
  {
   "cell_type": "code",
   "execution_count": 45,
   "id": "c1f4a287-d7d4-41c8-958e-b379df82ec5b",
   "metadata": {},
   "outputs": [
    {
     "name": "stdout",
     "output_type": "stream",
     "text": [
      "------------Findings of Multiple LR---------------------------\n",
      "r_score=0.7894790349867009\n"
     ]
    }
   ],
   "source": [
    "lr_result = find_best_model_lr()"
   ]
  },
  {
   "cell_type": "code",
   "execution_count": 47,
   "id": "b00815bd-7826-4764-aff7-5f952c9f1fe5",
   "metadata": {},
   "outputs": [
    {
     "name": "stdout",
     "output_type": "stream",
     "text": [
      "------------Findings of SVR---------------------------\n",
      "C,kernel,r_score\n",
      "10,linear,0.462468414233968\n",
      "10,poly,0.038716222760231456\n",
      "10,rbf,-0.0322732939067103\n",
      "10,sigmoid,0.03930714378274347\n",
      "100,linear,0.6288792857320367\n",
      "100,poly,0.6179569624059797\n",
      "100,rbf,0.3200317832050832\n",
      "100,sigmoid,0.5276103546510407\n",
      "500,linear,0.763105797597539\n",
      "500,poly,0.8263683541268981\n",
      "500,rbf,0.6642984611986598\n",
      "500,sigmoid,0.4446061033869473\n",
      "1000,linear,0.7649311738597033\n",
      "1000,poly,0.856648767594656\n",
      "1000,rbf,0.8102064874808204\n",
      "1000,sigmoid,0.2874706948697654\n",
      "2000,linear,0.7440418308108018\n",
      "2000,poly,0.8605579258597715\n",
      "2000,rbf,0.8547766422240716\n",
      "2000,sigmoid,-0.5939509731283503\n",
      "3000,linear,0.7414236599249162\n",
      "3000,poly,0.8598930084494385\n",
      "3000,rbf,0.8663393963090398\n",
      "3000,sigmoid,-2.1244194786689863\n",
      "\n",
      "Best combination:\n",
      "C=3000, kernel=rbf, r_score=0.8663393963090398\n"
     ]
    }
   ],
   "source": [
    "svr_result = find_best_model_svr()"
   ]
  },
  {
   "cell_type": "code",
   "execution_count": 49,
   "id": "d6c0e38e-b2f1-4663-875d-bf394458357d",
   "metadata": {},
   "outputs": [
    {
     "name": "stdout",
     "output_type": "stream",
     "text": [
      "------------Findings of DecisionTree---------------------------\n",
      "criterion,splitter,max_features,r_score\n",
      "squared_error,best,sqrt,0.7380769261109636\n",
      "squared_error,best,log2,0.6900374461444749\n",
      "squared_error,best,None,0.6797264926054288\n",
      "squared_error,random,sqrt,0.707195125235043\n",
      "squared_error,random,log2,0.6183761434872016\n",
      "squared_error,random,None,0.7063972872711168\n",
      "friedman_mse,best,sqrt,0.7675119985836285\n",
      "friedman_mse,best,log2,0.7256905156181405\n",
      "friedman_mse,best,None,0.7075954227130331\n",
      "friedman_mse,random,sqrt,0.7102030341728325\n",
      "friedman_mse,random,log2,0.6577815196542737\n",
      "friedman_mse,random,None,0.7413075807638254\n",
      "absolute_error,best,sqrt,0.48580312095134304\n",
      "absolute_error,best,log2,0.739105508561963\n",
      "absolute_error,best,None,0.6513855705079554\n",
      "absolute_error,random,sqrt,0.7797752846762114\n",
      "absolute_error,random,log2,0.7019856146291856\n",
      "absolute_error,random,None,0.7454631015676909\n",
      "poisson,best,sqrt,0.7423953161312683\n",
      "poisson,best,log2,0.7253411450784442\n",
      "poisson,best,None,0.7357927222626217\n",
      "poisson,random,sqrt,0.5384912008365945\n",
      "poisson,random,log2,0.7450153192515523\n",
      "poisson,random,None,0.7176748443814964\n",
      "\n",
      "Best combination:\n",
      "criterion=absolute_error, splitter=random, max_features=sqrt,r_score=0.7797752846762114\n"
     ]
    }
   ],
   "source": [
    "dt_result = find_best_model_dt()"
   ]
  },
  {
   "cell_type": "code",
   "execution_count": 51,
   "id": "02a6884c-762f-4bd9-a3c1-6077f6e85c15",
   "metadata": {},
   "outputs": [
    {
     "name": "stdout",
     "output_type": "stream",
     "text": [
      "------------Findings of RandomForest---------------------------\n",
      "n_estimators,max_depth,min_samples_split,max_features,random_state,r_score\n",
      "50,None,2,1.0,0,0.8495860472309916\n",
      "50,None,2,sqrt,0,0.8699196004695238\n",
      "50,None,2,log2,0,0.8699196004695238\n",
      "50,None,2,None,0,0.8495860472309916\n",
      "50,None,4,1.0,0,0.859394781190592\n",
      "50,None,4,sqrt,0,0.8716951777191232\n",
      "50,None,4,log2,0,0.8716951777191232\n",
      "50,None,4,None,0,0.859394781190592\n",
      "50,None,8,1.0,0,0.8703788087689401\n",
      "50,None,8,sqrt,0,0.8770051502116674\n",
      "50,None,8,log2,0,0.8770051502116674\n",
      "50,None,8,None,0,0.8703788087689401\n",
      "50,10,2,1.0,0,0.8569187146682384\n",
      "50,10,2,sqrt,0,0.875894126475048\n",
      "50,10,2,log2,0,0.875894126475048\n",
      "50,10,2,None,0,0.8569187146682384\n",
      "50,10,4,1.0,0,0.8641791908647469\n",
      "50,10,4,sqrt,0,0.879150481572974\n",
      "50,10,4,log2,0,0.879150481572974\n",
      "50,10,4,None,0,0.8641791908647469\n",
      "50,10,8,1.0,0,0.8713934379341124\n",
      "50,10,8,sqrt,0,0.8797319437278242\n",
      "50,10,8,log2,0,0.8797319437278242\n",
      "50,10,8,None,0,0.8713934379341124\n",
      "50,20,2,1.0,0,0.8499024837812883\n",
      "50,20,2,sqrt,0,0.8700077841835641\n",
      "50,20,2,log2,0,0.8700077841835641\n",
      "50,20,2,None,0,0.8499024837812883\n",
      "50,20,4,1.0,0,0.859394781190592\n",
      "50,20,4,sqrt,0,0.871393853870944\n",
      "50,20,4,log2,0,0.871393853870944\n",
      "50,20,4,None,0,0.859394781190592\n",
      "50,20,8,1.0,0,0.8703788087689401\n",
      "50,20,8,sqrt,0,0.8770051502116674\n",
      "50,20,8,log2,0,0.8770051502116674\n",
      "50,20,8,None,0,0.8703788087689401\n",
      "50,30,2,1.0,0,0.8495860472309916\n",
      "50,30,2,sqrt,0,0.8699196004695238\n",
      "50,30,2,log2,0,0.8699196004695238\n",
      "50,30,2,None,0,0.8495860472309916\n",
      "50,30,4,1.0,0,0.859394781190592\n",
      "50,30,4,sqrt,0,0.8716951777191232\n",
      "50,30,4,log2,0,0.8716951777191232\n",
      "50,30,4,None,0,0.859394781190592\n",
      "50,30,8,1.0,0,0.8703788087689401\n",
      "50,30,8,sqrt,0,0.8770051502116674\n",
      "50,30,8,log2,0,0.8770051502116674\n",
      "50,30,8,None,0,0.8703788087689401\n",
      "100,None,2,1.0,0,0.8537074492312178\n",
      "100,None,2,sqrt,0,0.8712882947395911\n",
      "100,None,2,log2,0,0.8712882947395911\n",
      "100,None,2,None,0,0.8537074492312178\n",
      "100,None,4,1.0,0,0.8623911916177828\n",
      "100,None,4,sqrt,0,0.8760163526298208\n",
      "100,None,4,log2,0,0.8760163526298208\n",
      "100,None,4,None,0,0.8623911916177828\n",
      "100,None,8,1.0,0,0.8723335384064431\n",
      "100,None,8,sqrt,0,0.8802793680462455\n",
      "100,None,8,log2,0,0.8802793680462455\n",
      "100,None,8,None,0,0.8723335384064431\n",
      "100,10,2,1.0,0,0.8602798913113847\n",
      "100,10,2,sqrt,0,0.8776410725127844\n",
      "100,10,2,log2,0,0.8776410725127844\n",
      "100,10,2,None,0,0.8602798913113847\n",
      "100,10,4,1.0,0,0.8664865435033449\n",
      "100,10,4,sqrt,0,0.8817449645807647\n",
      "100,10,4,log2,0,0.8817449645807647\n",
      "100,10,4,None,0,0.8664865435033449\n",
      "100,10,8,1.0,0,0.8733477278223188\n",
      "100,10,8,sqrt,0,0.8840778342294646\n",
      "100,10,8,log2,0,0.8840778342294646\n",
      "100,10,8,None,0,0.8733477278223188\n",
      "100,20,2,1.0,0,0.8538524377375317\n",
      "100,20,2,sqrt,0,0.8712162494719081\n",
      "100,20,2,log2,0,0.8712162494719081\n",
      "100,20,2,None,0,0.8538524377375317\n",
      "100,20,4,1.0,0,0.8624318147858812\n",
      "100,20,4,sqrt,0,0.875868082796615\n",
      "100,20,4,log2,0,0.875868082796615\n",
      "100,20,4,None,0,0.8624318147858812\n",
      "100,20,8,1.0,0,0.8723335384064431\n",
      "100,20,8,sqrt,0,0.8802793680462455\n",
      "100,20,8,log2,0,0.8802793680462455\n",
      "100,20,8,None,0,0.8723335384064431\n",
      "100,30,2,1.0,0,0.8537074492312178\n",
      "100,30,2,sqrt,0,0.8712882947395911\n",
      "100,30,2,log2,0,0.8712882947395911\n",
      "100,30,2,None,0,0.8537074492312178\n",
      "100,30,4,1.0,0,0.8623911916177828\n",
      "100,30,4,sqrt,0,0.8760163526298208\n",
      "100,30,4,log2,0,0.8760163526298208\n",
      "100,30,4,None,0,0.8623911916177828\n",
      "100,30,8,1.0,0,0.8723335384064431\n",
      "100,30,8,sqrt,0,0.8802793680462455\n",
      "100,30,8,log2,0,0.8802793680462455\n",
      "100,30,8,None,0,0.8723335384064431\n",
      "200,None,2,1.0,0,0.8524767824046595\n",
      "200,None,2,sqrt,0,0.8714136887722956\n",
      "200,None,2,log2,0,0.8714136887722956\n",
      "200,None,2,None,0,0.8524767824046595\n",
      "200,None,4,1.0,0,0.8614006495245388\n",
      "200,None,4,sqrt,0,0.8773883561438174\n",
      "200,None,4,log2,0,0.8773883561438174\n",
      "200,None,4,None,0,0.8614006495245388\n",
      "200,None,8,1.0,0,0.8719033862488723\n",
      "200,None,8,sqrt,0,0.8802965299476526\n",
      "200,None,8,log2,0,0.8802965299476526\n",
      "200,None,8,None,0,0.8719033862488723\n",
      "200,10,2,1.0,0,0.8593537322269925\n",
      "200,10,2,sqrt,0,0.878379419380624\n",
      "200,10,2,log2,0,0.878379419380624\n",
      "200,10,2,None,0,0.8593537322269925\n",
      "200,10,4,1.0,0,0.8653042203295969\n",
      "200,10,4,sqrt,0,0.8809575074933016\n",
      "200,10,4,log2,0,0.8809575074933016\n",
      "200,10,4,None,0,0.8653042203295969\n",
      "200,10,8,1.0,0,0.8729953488816408\n",
      "200,10,8,sqrt,0,0.8844928536280982\n",
      "200,10,8,log2,0,0.8844928536280982\n",
      "200,10,8,None,0,0.8729953488816408\n",
      "200,20,2,1.0,0,0.8525302540208847\n",
      "200,20,2,sqrt,0,0.871369448718603\n",
      "200,20,2,log2,0,0.871369448718603\n",
      "200,20,2,None,0,0.8525302540208847\n",
      "200,20,4,1.0,0,0.8614229478745205\n",
      "200,20,4,sqrt,0,0.8772109027650637\n",
      "200,20,4,log2,0,0.8772109027650637\n",
      "200,20,4,None,0,0.8614229478745205\n",
      "200,20,8,1.0,0,0.8719033862488723\n",
      "200,20,8,sqrt,0,0.8802965299476526\n",
      "200,20,8,log2,0,0.8802965299476526\n",
      "200,20,8,None,0,0.8719033862488723\n",
      "200,30,2,1.0,0,0.8524767824046595\n",
      "200,30,2,sqrt,0,0.8714136887722956\n",
      "200,30,2,log2,0,0.8714136887722956\n",
      "200,30,2,None,0,0.8524767824046595\n",
      "200,30,4,1.0,0,0.8614006495245388\n",
      "200,30,4,sqrt,0,0.8773883561438174\n",
      "200,30,4,log2,0,0.8773883561438174\n",
      "200,30,4,None,0,0.8614006495245388\n",
      "200,30,8,1.0,0,0.8719033862488723\n",
      "200,30,8,sqrt,0,0.8802965299476526\n",
      "200,30,8,log2,0,0.8802965299476526\n",
      "200,30,8,None,0,0.8719033862488723\n",
      "500,None,2,1.0,0,0.853097852839674\n",
      "500,None,2,sqrt,0,0.8710923771571437\n",
      "500,None,2,log2,0,0.8710923771571437\n",
      "500,None,2,None,0,0.853097852839674\n",
      "500,None,4,1.0,0,0.8617668623405783\n",
      "500,None,4,sqrt,0,0.8783647629912169\n",
      "500,None,4,log2,0,0.8783647629912169\n",
      "500,None,4,None,0,0.8617668623405783\n",
      "500,None,8,1.0,0,0.8720796024677095\n",
      "500,None,8,sqrt,0,0.8811504601200928\n",
      "500,None,8,log2,0,0.8811504601200928\n",
      "500,None,8,None,0,0.8720796024677095\n",
      "500,10,2,1.0,0,0.8595733658784088\n",
      "500,10,2,sqrt,0,0.877765783978484\n",
      "500,10,2,log2,0,0.877765783978484\n",
      "500,10,2,None,0,0.8595733658784088\n",
      "500,10,4,1.0,0,0.865864917294631\n",
      "500,10,4,sqrt,0,0.8816767347354162\n",
      "500,10,4,log2,0,0.8816767347354162\n",
      "500,10,4,None,0,0.865864917294631\n",
      "500,10,8,1.0,0,0.8733239158740806\n",
      "500,10,8,sqrt,0,0.8842254447681062\n",
      "500,10,8,log2,0,0.8842254447681062\n",
      "500,10,8,None,0,0.8733239158740806\n",
      "500,20,2,1.0,0,0.8531014059703972\n",
      "500,20,2,sqrt,0,0.8710226102966595\n",
      "500,20,2,log2,0,0.8710226102966595\n",
      "500,20,2,None,0,0.8531014059703972\n",
      "500,20,4,1.0,0,0.8617645743318315\n",
      "500,20,4,sqrt,0,0.878295368522837\n",
      "500,20,4,log2,0,0.878295368522837\n",
      "500,20,4,None,0,0.8617645743318315\n",
      "500,20,8,1.0,0,0.8720796024677095\n",
      "500,20,8,sqrt,0,0.8811504601200928\n",
      "500,20,8,log2,0,0.8811504601200928\n",
      "500,20,8,None,0,0.8720796024677095\n",
      "500,30,2,1.0,0,0.853097852839674\n",
      "500,30,2,sqrt,0,0.8710923771571437\n",
      "500,30,2,log2,0,0.8710923771571437\n",
      "500,30,2,None,0,0.853097852839674\n",
      "500,30,4,1.0,0,0.8617668623405783\n",
      "500,30,4,sqrt,0,0.8783647629912169\n",
      "500,30,4,log2,0,0.8783647629912169\n",
      "500,30,4,None,0,0.8617668623405783\n",
      "500,30,8,1.0,0,0.8720796024677095\n",
      "500,30,8,sqrt,0,0.8811504601200928\n",
      "500,30,8,log2,0,0.8811504601200928\n",
      "500,30,8,None,0,0.8720796024677095\n",
      "\n",
      "Best combination:\n",
      "n_estimators=200, max_depth=10, min_samples_split=8,max_features=sqrt,random_state=0,r_score=0.8844928536280982\n"
     ]
    }
   ],
   "source": [
    "rf_result = find_best_model_rf()"
   ]
  },
  {
   "cell_type": "code",
   "execution_count": 57,
   "id": "a23c5540-1220-4196-956d-5a1997f61b39",
   "metadata": {},
   "outputs": [
    {
     "name": "stdout",
     "output_type": "stream",
     "text": [
      "{'n_estimators': 200, 'max_depth': 10, 'min_samples_split': 8, 'max_features': 'sqrt', 'random_state': 0, 'r_score': 0.8844928536280982, 'regressor': RandomForestRegressor(max_depth=10, max_features='sqrt', min_samples_split=8,\n",
      "                      n_estimators=200, random_state=0)}\n"
     ]
    }
   ],
   "source": [
    "#find the best model among the best model from each algorithm\n",
    "list_of_dicts = [lr_result,svr_result,dt_result,rf_result]\n",
    "max_dict = max(list_of_dicts, key=lambda x: x[\"r_score\"])\n",
    "print(max_dict)\n",
    "\n"
   ]
  },
  {
   "cell_type": "code",
   "execution_count": 67,
   "id": "4784096c-3c7b-42cf-9f70-bba539b8a66a",
   "metadata": {},
   "outputs": [
    {
     "name": "stdout",
     "output_type": "stream",
     "text": [
      "model insurance_model.sav saved successfully\n"
     ]
    }
   ],
   "source": [
    "#save the best model\n",
    "best_regressor = max_dict[\"regressor\"]\n",
    "finalized_model = \"insurance_model.sav\"\n",
    "pickle.dump(best_regressor,open(finalized_model,\"wb\"))\n",
    "print(f\"model {finalized_model} saved successfully\")"
   ]
  },
  {
   "cell_type": "code",
   "execution_count": null,
   "id": "7f96e439-b42c-4640-82c9-752726cefd9d",
   "metadata": {},
   "outputs": [],
   "source": []
  }
 ],
 "metadata": {
  "kernelspec": {
   "display_name": "Python 3 (ipykernel)",
   "language": "python",
   "name": "python3"
  },
  "language_info": {
   "codemirror_mode": {
    "name": "ipython",
    "version": 3
   },
   "file_extension": ".py",
   "mimetype": "text/x-python",
   "name": "python",
   "nbconvert_exporter": "python",
   "pygments_lexer": "ipython3",
   "version": "3.12.4"
  }
 },
 "nbformat": 4,
 "nbformat_minor": 5
}
