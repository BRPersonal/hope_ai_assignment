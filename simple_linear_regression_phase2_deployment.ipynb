{
 "cells": [
  {
   "cell_type": "code",
   "execution_count": 1,
   "id": "4f3f8bde-f82f-48e9-b7ef-b773bad23a6c",
   "metadata": {},
   "outputs": [],
   "source": [
    "import pickle\n",
    "import warnings "
   ]
  },
  {
   "cell_type": "code",
   "execution_count": 3,
   "id": "482126fb-4793-42d1-8272-a718599b1f6f",
   "metadata": {},
   "outputs": [],
   "source": [
    "#suppress warnings\n",
    "warnings.filterwarnings('ignore')"
   ]
  },
  {
   "cell_type": "code",
   "execution_count": 5,
   "id": "3d1cb4e6-6bfe-41ec-9884-5b7f894cdcce",
   "metadata": {},
   "outputs": [],
   "source": [
    "#Phase II - Deployment\n",
    "#load the saved model\n",
    "#file name extension should be sav for pickle\n",
    "finalized_model = \"finalized_model.sav\"\n",
    "loaded_model = pickle.load(open(finalized_model,\"rb\"))"
   ]
  },
  {
   "cell_type": "code",
   "execution_count": 27,
   "id": "55b6c9fb-3a7f-4f4c-be26-e614db12f90b",
   "metadata": {},
   "outputs": [
    {
     "name": "stdin",
     "output_type": "stream",
     "text": [
      "Enter no. of inputs: 3\n",
      "Enter Years of Experience(Input #1): 3\n",
      "Enter Years of Experience(Input #2): 4\n",
      "Enter Years of Experience(Input #3): 5\n"
     ]
    },
    {
     "name": "stdout",
     "output_type": "stream",
     "text": [
      "Salary.shape=(3, 1)\n",
      "Predicted Salary=[[54858.17519978]\n",
      " [64218.43648597]\n",
      " [73578.69777217]]\n"
     ]
    }
   ],
   "source": [
    "#Predict the output for multiple inputs\n",
    "yearsOfExp=[]\n",
    "no_of_inputs = int(input(\"Enter no. of inputs:\"))\n",
    "for i in range(no_of_inputs):\n",
    "    exp = int(input(f\"Enter Years of Experience(Input #{i+1}):\"))\n",
    "    yearsOfExp.append([exp])\n",
    "\n",
    "result = loaded_model.predict(yearsOfExp)\n",
    "print(f\"Salary.shape={result.shape}\")\n",
    "print(f\"Predicted Salary={result}\")"
   ]
  },
  {
   "cell_type": "code",
   "execution_count": null,
   "id": "c36c4063-a83e-430b-841b-42b82701d2fe",
   "metadata": {},
   "outputs": [],
   "source": []
  }
 ],
 "metadata": {
  "kernelspec": {
   "display_name": "Python 3 (ipykernel)",
   "language": "python",
   "name": "python3"
  },
  "language_info": {
   "codemirror_mode": {
    "name": "ipython",
    "version": 3
   },
   "file_extension": ".py",
   "mimetype": "text/x-python",
   "name": "python",
   "nbconvert_exporter": "python",
   "pygments_lexer": "ipython3",
   "version": "3.12.4"
  }
 },
 "nbformat": 4,
 "nbformat_minor": 5
}
