{
 "cells": [
  {
   "cell_type": "code",
   "execution_count": 1,
   "id": "4f3f8bde-f82f-48e9-b7ef-b773bad23a6c",
   "metadata": {},
   "outputs": [],
   "source": [
    "import pickle"
   ]
  },
  {
   "cell_type": "code",
   "execution_count": 2,
   "id": "3d1cb4e6-6bfe-41ec-9884-5b7f894cdcce",
   "metadata": {},
   "outputs": [],
   "source": [
    "#Phase II - Deployment\n",
    "#load the saved model\n",
    "#file name extension should be sav for pickle\n",
    "finalized_model = \"finalized_model.sav\"\n",
    "loaded_model = pickle.load(open(finalized_model,\"rb\"))"
   ]
  },
  {
   "cell_type": "code",
   "execution_count": 3,
   "id": "55b6c9fb-3a7f-4f4c-be26-e614db12f90b",
   "metadata": {},
   "outputs": [
    {
     "name": "stdin",
     "output_type": "stream",
     "text": [
      "Enter Years of Experience: 0\n"
     ]
    },
    {
     "name": "stdout",
     "output_type": "stream",
     "text": [
      "Predicted Salary=[[26777.3913412]]\n"
     ]
    },
    {
     "name": "stderr",
     "output_type": "stream",
     "text": [
      "/Applications/anaconda3/lib/python3.12/site-packages/sklearn/base.py:493: UserWarning: X does not have valid feature names, but LinearRegression was fitted with feature names\n",
      "  warnings.warn(\n"
     ]
    }
   ],
   "source": [
    "#Predict the output for an input\n",
    "yearsOfExp = int(input(\"Enter Years of Experience:\"))\n",
    "result = loaded_model.predict([[yearsOfExp]])\n",
    "print(f\"Predicted Salary={result}\")"
   ]
  },
  {
   "cell_type": "code",
   "execution_count": null,
   "id": "c36c4063-a83e-430b-841b-42b82701d2fe",
   "metadata": {},
   "outputs": [],
   "source": []
  }
 ],
 "metadata": {
  "kernelspec": {
   "display_name": "Python 3 (ipykernel)",
   "language": "python",
   "name": "python3"
  },
  "language_info": {
   "codemirror_mode": {
    "name": "ipython",
    "version": 3
   },
   "file_extension": ".py",
   "mimetype": "text/x-python",
   "name": "python",
   "nbconvert_exporter": "python",
   "pygments_lexer": "ipython3",
   "version": "3.12.4"
  }
 },
 "nbformat": 4,
 "nbformat_minor": 5
}
