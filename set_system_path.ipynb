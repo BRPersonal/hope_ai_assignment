{
 "cells": [
  {
   "cell_type": "code",
   "execution_count": 6,
   "id": "a271fa43-7d1d-4b33-ad85-5524adba441c",
   "metadata": {},
   "outputs": [],
   "source": [
    "import sys\n",
    "import os\n",
    "sys.path.append(os.path.dirname(os.path.abspath(\"set_system_path.py\")))\n"
   ]
  },
  {
   "cell_type": "code",
   "execution_count": null,
   "id": "d52df976-f95b-4df6-bda3-e2522536d26a",
   "metadata": {},
   "outputs": [],
   "source": []
  }
 ],
 "metadata": {
  "kernelspec": {
   "display_name": "Python 3 (ipykernel)",
   "language": "python",
   "name": "python3"
  },
  "language_info": {
   "codemirror_mode": {
    "name": "ipython",
    "version": 3
   },
   "file_extension": ".py",
   "mimetype": "text/x-python",
   "name": "python",
   "nbconvert_exporter": "python",
   "pygments_lexer": "ipython3",
   "version": "3.12.4"
  }
 },
 "nbformat": 4,
 "nbformat_minor": 5
}
