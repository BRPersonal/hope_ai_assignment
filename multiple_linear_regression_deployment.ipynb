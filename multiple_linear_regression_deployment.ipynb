{
 "cells": [
  {
   "cell_type": "code",
   "execution_count": 2,
   "id": "7b1b8c53-96e6-45d2-8af5-0159f524717f",
   "metadata": {},
   "outputs": [],
   "source": [
    "import pickle\n",
    "import warnings "
   ]
  },
  {
   "cell_type": "code",
   "execution_count": 4,
   "id": "a05f23fc-c1f9-4138-8b74-e4ec95f1ffb6",
   "metadata": {},
   "outputs": [],
   "source": [
    "#suppress warnings\n",
    "warnings.filterwarnings('ignore')"
   ]
  },
  {
   "cell_type": "code",
   "execution_count": 6,
   "id": "d4a59f06-a3bb-4e09-876c-11e05e83f36d",
   "metadata": {},
   "outputs": [],
   "source": [
    "finalized_model = \"finalized_model_mul.sav\"\n",
    "loaded_model = pickle.load(open(finalized_model,\"rb\"))"
   ]
  },
  {
   "cell_type": "code",
   "execution_count": 8,
   "id": "5415dc4b-0680-478e-8311-5ad95cda1e6e",
   "metadata": {},
   "outputs": [],
   "source": [
    "my_input = [[1234,345,4565,True,False]]"
   ]
  },
  {
   "cell_type": "code",
   "execution_count": 10,
   "id": "483ceb6c-a3ef-4dce-a3b9-1b5a6c27e7b0",
   "metadata": {},
   "outputs": [],
   "source": [
    "result = loaded_model.predict(my_input)"
   ]
  },
  {
   "cell_type": "code",
   "execution_count": 16,
   "id": "1b2e365f-59ba-4dd8-9e7c-cebc2255ce3f",
   "metadata": {},
   "outputs": [
    {
     "name": "stdout",
     "output_type": "stream",
     "text": [
      "<class 'numpy.ndarray'>\n",
      "(1, 1)\n",
      "[[43994.79745873]]\n"
     ]
    }
   ],
   "source": [
    "print(type(result))\n",
    "print(result.shape)\n",
    "print(result)"
   ]
  },
  {
   "cell_type": "code",
   "execution_count": null,
   "id": "5bc76330-18bd-4773-8350-fe8a76ac3d41",
   "metadata": {},
   "outputs": [],
   "source": []
  }
 ],
 "metadata": {
  "kernelspec": {
   "display_name": "Python 3 (ipykernel)",
   "language": "python",
   "name": "python3"
  },
  "language_info": {
   "codemirror_mode": {
    "name": "ipython",
    "version": 3
   },
   "file_extension": ".py",
   "mimetype": "text/x-python",
   "name": "python",
   "nbconvert_exporter": "python",
   "pygments_lexer": "ipython3",
   "version": "3.12.4"
  }
 },
 "nbformat": 4,
 "nbformat_minor": 5
}
